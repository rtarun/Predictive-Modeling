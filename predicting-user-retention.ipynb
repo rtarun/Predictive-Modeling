{
 "cells": [
  {
   "cell_type": "code",
   "execution_count": null,
   "metadata": {
    "collapsed": false
   },
   "outputs": [],
   "source": [
    "import pandas as pd\n",
    "from datetime import datetime\n",
    "import json\n",
    "from pprint import pprint\n",
    "\n",
    "with open('data.json') as data_file:    \n",
    "    data = json.load(data_file)\n",
    "\n",
    "user_data_df=pd.DataFrame(data)\n",
    "# user_data_df.head()\n",
    "\n",
    "#user_data_df[\"last_trip_date\"==\"2014-06-17\"]\n",
    "user_data_df\n",
    "user_data_df.to_excel(\"user_data.xlsx\", encoding='utf-8')\n",
    "\n",
    "# Data description:\n",
    "# city: city this user signed up in\n",
    "# phone: primary device for this user\n",
    "# signup_date: date of account registration; in the form ‘YYYY-MM-DD’\n",
    "# last_trip_date: the last time this user completed a trip; in the form ‘YYYY-MM-DD’\n",
    "# avg_dist: the average distance (in miles) per trip taken in the first 30 days after signup\n",
    "# avg_rating_by_driver: the rider’s average rating over all of their trips\n",
    "# avg_rating_of_driver: the rider’s average rating of their drivers over all of their trips\n",
    "# surge_pct: the percent of trips taken with surge multiplier > 1\n",
    "# avg_surge: The average surge multiplier over all of this user’s trips\n",
    "# trips_in_first_30_days: the number of trips this user took in the first 30 days after signing up\n",
    "# uber_black_user: TRUE if the user took an Uber Black in their first 30 days; FALSE otherwise\n",
    "# weekday_pct: the percent of the user’s trips occurring during a weekday\n",
    "    \n",
    "user_data=user_data_df.sort_values(by='last_trip_date')\n",
    "user_data.tail(40)\n",
    "\n",
    "# count = 0\n",
    "# for row in user_data_df.rows:\n",
    "#     if"
   ]
  },
  {
   "cell_type": "code",
   "execution_count": null,
   "metadata": {
    "collapsed": false
   },
   "outputs": [],
   "source": [
    "user_data.describe()"
   ]
  },
  {
   "cell_type": "code",
   "execution_count": null,
   "metadata": {
    "collapsed": false
   },
   "outputs": [],
   "source": [
    "print(user_data['city'].value_counts())\n",
    "print('\\n')\n",
    "print(user_data['phone'].value_counts())\n"
   ]
  },
  {
   "cell_type": "code",
   "execution_count": null,
   "metadata": {
    "collapsed": false
   },
   "outputs": [],
   "source": [
    "%matplotlib inline\n",
    "import matplotlib.pyplot as plt\n",
    "\n",
    "plt.hist(user_data[\"weekday_pct\"])"
   ]
  },
  {
   "cell_type": "code",
   "execution_count": null,
   "metadata": {
    "collapsed": false
   },
   "outputs": [],
   "source": [
    "user_data.boxplot(column='avg_rating_by_driver')"
   ]
  },
  {
   "cell_type": "code",
   "execution_count": null,
   "metadata": {
    "collapsed": false
   },
   "outputs": [],
   "source": [
    "##Pre-processing the data\n",
    "##Converting categorial variables\n",
    "\n",
    "from sklearn.preprocessing import LabelEncoder\n",
    "var_mod = ['uber_black_user']\n",
    "le = LabelEncoder()\n",
    "for i in var_mod:\n",
    "    user_data[i] = le.fit_transform(user_data[i])\n",
    "    \n",
    "user_data.dtypes"
   ]
  },
  {
   "cell_type": "code",
   "execution_count": null,
   "metadata": {
    "collapsed": false
   },
   "outputs": [],
   "source": [
    "# user_data.loc[0:100]['Active_User']=1\n",
    "# user_data.loc[101:49999]['Active_User']=0\n",
    "\n",
    "#user_data.describe()\n",
    "\n",
    "user_data['Active_User'] = np.where(user_data['avg_dist']>3, 1, 0)\n",
    "\n",
    "user_data.tail(10)"
   ]
  },
  {
   "cell_type": "markdown",
   "metadata": {},
   "source": []
  },
  {
   "cell_type": "code",
   "execution_count": null,
   "metadata": {
    "collapsed": true
   },
   "outputs": [],
   "source": [
    "##Model\n",
    "import numpy as np\n",
    "\n",
    "#Import models from scikit learn module:\n",
    "from sklearn.linear_model import LogisticRegression\n",
    "from sklearn.cross_validation import KFold   #For K-fold cross validation\n",
    "from sklearn.ensemble import RandomForestClassifier\n",
    "from sklearn.tree import DecisionTreeClassifier, export_graphviz\n",
    "from sklearn import metrics\n",
    "\n",
    "#Generic function for making a classification model and accessing performance:\n",
    "def classification_model(model, data, predictors, outcome):\n",
    "\n",
    "    model.fit(data[predictors],data[outcome])\n",
    "    predictions = model.predict(data[predictors])\n",
    "    accuracy = metrics.accuracy_score(predictions,data[outcome])\n",
    "    print(\"Accuracy : %s\" % \"{0:.3%}\".format(accuracy))\n",
    "    kf = KFold(data.shape[0], n_folds=5)\n",
    "    error = []\n",
    "    \n",
    "    for train, test in kf:\n",
    "        train_predictors = (data[predictors].iloc[train,:])\n",
    "        train_target = data[outcome].iloc[train]\n",
    "        model.fit(train_predictors, train_target)\n",
    "        error.append(model.score(data[predictors].iloc[test,:], data[outcome].iloc[test]))\n",
    "\n",
    "    print(\"Cross-Validation Score : %s\" % \"{0:.3%}\".format(np.mean(error)))\n",
    "    model.fit(data[predictors],data[outcome]) \n",
    "\n"
   ]
  },
  {
   "cell_type": "code",
   "execution_count": null,
   "metadata": {
    "collapsed": false
   },
   "outputs": [],
   "source": [
    "outcome_var = 'Active_User'\n",
    "model = LogisticRegression()\n",
    "predictor_var = ['avg_dist']\n",
    "classification_model(model, user_data, predictor_var, outcome_var)"
   ]
  },
  {
   "cell_type": "code",
   "execution_count": null,
   "metadata": {
    "collapsed": true
   },
   "outputs": [],
   "source": []
  }
 ],
 "metadata": {
  "kernelspec": {
   "display_name": "Python 3",
   "language": "python",
   "name": "python3"
  },
  "language_info": {
   "codemirror_mode": {
    "name": "ipython",
    "version": 3
   },
   "file_extension": ".py",
   "mimetype": "text/x-python",
   "name": "python",
   "nbconvert_exporter": "python",
   "pygments_lexer": "ipython3",
   "version": "3.5.1"
  }
 },
 "nbformat": 4,
 "nbformat_minor": 0
}
