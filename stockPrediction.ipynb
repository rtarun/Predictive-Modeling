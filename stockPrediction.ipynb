{
 "cells": [
  {
   "cell_type": "markdown",
   "metadata": {},
   "source": [
    "Building a model to forecast S1, as a function of S1, S2, …, S10\n",
    "\n",
    "​First 50 rows of the dataset have values of S1. The remaining 50 rows of the dataset have values for S1\n",
    "missing: our model will fill these in.\n",
    "\n",
    "(1) Which variables matter for predicting S1?\n",
    "\n",
    "Variables having Pearson's correlation coefficient >0.8 or <-0.8 with S1 are (in decreasing order): S6, S5, S9, S3, S2, S4 \n",
    "\n",
    "S10 and S8 don't fall under the above mentioned pearson R range.\n",
    "\n",
    "Thus, they matter for predicting S1.\n",
    "\n",
    "\n",
    "(2) Does S1 go up or down cumulatively (on an open­to­close basis) over this period?\n",
    "Up by 5.91\n",
    "\n",
    "\n",
    "(3) How much confidence do you have in your model? Why and when would it fail?\n",
    "\n",
    "\n",
    "(4) What techniques did you use? Why?\n",
    "\n",
    "- For determinig variables that matter for predicting S1, we calculate Pearson's correlation coefficient, because it helps determine measure of the degree of linear dependence between two variables.\n",
    "\n",
    "- For modelling, we use OLS on Multiple Linear Regression, because:\n",
    "\n",
    "a. We predict output for test data, based on the training data. So it's a supervised learning problem, \n",
    "b. The output variable to be predicted is on a continuous scale, so we employ regression.\n",
    "c. There are multiple significant dependent variables, so we apply mutiple linear regression.\n",
    "d. There's a high correlation between regressors (as seen in the regressors' correlation matrix)"
   ]
  },
  {
   "cell_type": "code",
   "execution_count": 1,
   "metadata": {
    "collapsed": false
   },
   "outputs": [],
   "source": [
    "import pandas as pd\n",
    "import matplotlib.pyplot as plt\n",
    "import numpy as np\n",
    "from statsmodels import regression\n",
    "from scipy.stats.stats import pearsonr\n",
    "from sklearn.cross_validation import cross_val_score\n",
    "from sklearn import linear_model"
   ]
  },
  {
   "cell_type": "markdown",
   "metadata": {},
   "source": [
    "Reading into Pandas Dataframe, and splitting into traning and test datasets."
   ]
  },
  {
   "cell_type": "code",
   "execution_count": 2,
   "metadata": {
    "collapsed": false
   },
   "outputs": [
    {
     "data": {
      "text/plain": [
       "Index(['date', 'S1', 'S2', 'S3', 'S4', 'S5', 'S6', 'S7', 'S8', 'S9', 'S10'], dtype='object')"
      ]
     },
     "execution_count": 2,
     "metadata": {},
     "output_type": "execute_result"
    }
   ],
   "source": [
    "data_file = '<file_location>.csv'\n",
    "data = pd.read_csv(data_file)\n",
    "data = data[0:101]\n",
    "\n",
    "trainingData = data[0:50]\n",
    "testData = data[51:100]\n",
    "trainingData.columns"
   ]
  },
  {
   "cell_type": "code",
   "execution_count": 3,
   "metadata": {
    "collapsed": false
   },
   "outputs": [
    {
     "data": {
      "text/plain": [
       "Index(['S2', 'S3', 'S4', 'S5', 'S6', 'S7', 'S8', 'S9', 'S10'], dtype='object')"
      ]
     },
     "execution_count": 3,
     "metadata": {},
     "output_type": "execute_result"
    }
   ],
   "source": [
    "del testData['date']\n",
    "del testData['S1']\n",
    "\n",
    "testData.columns"
   ]
  },
  {
   "cell_type": "markdown",
   "metadata": {},
   "source": [
    "Finding if S1 goes up/down cumulatively"
   ]
  },
  {
   "cell_type": "code",
   "execution_count": 4,
   "metadata": {
    "collapsed": false
   },
   "outputs": [
    {
     "data": {
      "text/plain": [
       "5.917590623"
      ]
     },
     "execution_count": 4,
     "metadata": {},
     "output_type": "execute_result"
    },
    {
     "data": {
      "image/png": "[encoded data removed]",
      "text/plain": [
       "<matplotlib.figure.Figure at 0x10dc8b908>"
      ]
     },
     "metadata": {},
     "output_type": "display_data"
    }
   ],
   "source": [
    "%matplotlib inline\n",
    "plt.plot(data.S1)\n",
    "\n",
    "cumulativeChangeS1 = trainingData.S1\n",
    "cumulativeChangeS1.sum(axis=0)\n"
   ]
  },
  {
   "cell_type": "code",
   "execution_count": 5,
   "metadata": {
    "collapsed": false
   },
   "outputs": [
    {
     "data": {
      "text/html": [
       "<div>\n",
       "<table border=\"1\" class=\"dataframe\">\n",
       "  <thead>\n",
       "    <tr style=\"text-align: right;\">\n",
       "      <th></th>\n",
       "      <th>S1</th>\n",
       "      <th>S2</th>\n",
       "      <th>S3</th>\n",
       "      <th>S4</th>\n",
       "      <th>S5</th>\n",
       "      <th>S6</th>\n",
       "      <th>S7</th>\n",
       "      <th>S8</th>\n",
       "      <th>S9</th>\n",
       "      <th>S10</th>\n",
       "    </tr>\n",
       "  </thead>\n",
       "  <tbody>\n",
       "    <tr>\n",
       "      <th>0</th>\n",
       "      <td>0.446531</td>\n",
       "      <td>-0.828505</td>\n",
       "      <td>1.268874</td>\n",
       "      <td>1.468834</td>\n",
       "      <td>1.207883</td>\n",
       "      <td>0.622798</td>\n",
       "      <td>1.821350</td>\n",
       "      <td>-0.699674</td>\n",
       "      <td>1.890508</td>\n",
       "      <td>0.523177</td>\n",
       "    </tr>\n",
       "    <tr>\n",
       "      <th>1</th>\n",
       "      <td>0.242901</td>\n",
       "      <td>-0.245839</td>\n",
       "      <td>-0.558069</td>\n",
       "      <td>-0.990142</td>\n",
       "      <td>-0.497502</td>\n",
       "      <td>-0.137380</td>\n",
       "      <td>0.158878</td>\n",
       "      <td>0.081083</td>\n",
       "      <td>-1.311177</td>\n",
       "      <td>0.175995</td>\n",
       "    </tr>\n",
       "    <tr>\n",
       "      <th>2</th>\n",
       "      <td>-0.327468</td>\n",
       "      <td>-0.745564</td>\n",
       "      <td>0.254992</td>\n",
       "      <td>0.322715</td>\n",
       "      <td>0.832613</td>\n",
       "      <td>0.091484</td>\n",
       "      <td>-0.405513</td>\n",
       "      <td>-0.323873</td>\n",
       "      <td>0.920877</td>\n",
       "      <td>-0.066132</td>\n",
       "    </tr>\n",
       "    <tr>\n",
       "      <th>3</th>\n",
       "      <td>0.098084</td>\n",
       "      <td>-0.636639</td>\n",
       "      <td>-0.840802</td>\n",
       "      <td>0.643013</td>\n",
       "      <td>0.167639</td>\n",
       "      <td>0.017852</td>\n",
       "      <td>0.293241</td>\n",
       "      <td>0.871516</td>\n",
       "      <td>0.201038</td>\n",
       "      <td>-0.166004</td>\n",
       "    </tr>\n",
       "    <tr>\n",
       "      <th>4</th>\n",
       "      <td>0.127334</td>\n",
       "      <td>-0.710122</td>\n",
       "      <td>1.396653</td>\n",
       "      <td>0.135177</td>\n",
       "      <td>1.888105</td>\n",
       "      <td>0.583958</td>\n",
       "      <td>0.949694</td>\n",
       "      <td>0.428746</td>\n",
       "      <td>1.050444</td>\n",
       "      <td>1.196328</td>\n",
       "    </tr>\n",
       "  </tbody>\n",
       "</table>\n",
       "</div>"
      ],
      "text/plain": [
       "         S1        S2        S3        S4        S5        S6        S7  \\\n",
       "0  0.446531 -0.828505  1.268874  1.468834  1.207883  0.622798  1.821350   \n",
       "1  0.242901 -0.245839 -0.558069 -0.990142 -0.497502 -0.137380  0.158878   \n",
       "2 -0.327468 -0.745564  0.254992  0.322715  0.832613  0.091484 -0.405513   \n",
       "3  0.098084 -0.636639 -0.840802  0.643013  0.167639  0.017852  0.293241   \n",
       "4  0.127334 -0.710122  1.396653  0.135177  1.888105  0.583958  0.949694   \n",
       "\n",
       "         S8        S9       S10  \n",
       "0 -0.699674  1.890508  0.523177  \n",
       "1  0.081083 -1.311177  0.175995  \n",
       "2 -0.323873  0.920877 -0.066132  \n",
       "3  0.871516  0.201038 -0.166004  \n",
       "4  0.428746  1.050444  1.196328  "
      ]
     },
     "execution_count": 5,
     "metadata": {},
     "output_type": "execute_result"
    }
   ],
   "source": [
    "del trainingData['date']\n",
    "trainingData.head()"
   ]
  },
  {
   "cell_type": "code",
   "execution_count": 6,
   "metadata": {
    "collapsed": false
   },
   "outputs": [
    {
     "name": "stdout",
     "output_type": "stream",
     "text": [
      "(1.0, 0.0)\n",
      "(-0.8962857569999102, 1.4266630142577519e-18)\n",
      "(0.91506717355730838, 1.4660979070085499e-20)\n",
      "(0.84521856407540552, 1.1670259865512026e-14)\n",
      "(0.93490583999648036, 3.1037828729566309e-23)\n",
      "(0.93833586996302587, 8.8025226585623124e-24)\n",
      "(0.92035698614775152, 3.3285728489004498e-21)\n",
      "(0.62701649245246005, 1.1045880231158655e-06)\n",
      "(0.91994415498738091, 3.7505205198267953e-21)\n",
      "(-0.63589677779857878, 6.9695351115388734e-07)\n"
     ]
    }
   ],
   "source": [
    "# Correlation b/w S1 and all independent variables\n",
    "\n",
    "for column in trainingData:\n",
    "    print(pearsonr(trainingData['S1'], trainingData[column]))\n"
   ]
  },
  {
   "cell_type": "markdown",
   "metadata": {},
   "source": [
    "Building correlation matrix for regressors to understand type of regression to employ"
   ]
  },
  {
   "cell_type": "code",
   "execution_count": 7,
   "metadata": {
    "collapsed": false
   },
   "outputs": [
    {
     "data": {
      "text/plain": [
       "array([[ 1.        , -0.8797982 , -0.84822979, -0.90822847, -0.91675221,\n",
       "        -0.89251025, -0.74134782, -0.90111378,  0.68085586],\n",
       "       [-0.8797982 ,  1.        ,  0.84101048,  0.94586921,  0.95303934,\n",
       "         0.91850052,  0.65627119,  0.93323391, -0.66327554],\n",
       "       [-0.84822979,  0.84101048,  1.        ,  0.89658221,  0.90029131,\n",
       "         0.88016055,  0.60856863,  0.91009935, -0.60642926],\n",
       "       [-0.90822847,  0.94586921,  0.89658221,  1.        ,  0.98836492,\n",
       "         0.9611219 ,  0.6883806 ,  0.96514291, -0.67342398],\n",
       "       [-0.91675221,  0.95303934,  0.90029131,  0.98836492,  1.        ,\n",
       "         0.965351  ,  0.70244827,  0.9729268 , -0.68649803],\n",
       "       [-0.89251025,  0.91850052,  0.88016055,  0.9611219 ,  0.965351  ,\n",
       "         1.        ,  0.72518991,  0.93824226, -0.64133902],\n",
       "       [-0.74134782,  0.65627119,  0.60856863,  0.6883806 ,  0.70244827,\n",
       "         0.72518991,  1.        ,  0.63757423, -0.56530286],\n",
       "       [-0.90111378,  0.93323391,  0.91009935,  0.96514291,  0.9729268 ,\n",
       "         0.93824226,  0.63757423,  1.        , -0.67432873],\n",
       "       [ 0.68085586, -0.66327554, -0.60642926, -0.67342398, -0.68649803,\n",
       "        -0.64133902, -0.56530286, -0.67432873,  1.        ]])"
      ]
     },
     "execution_count": 7,
     "metadata": {},
     "output_type": "execute_result"
    }
   ],
   "source": [
    "correlMat = np.corrcoef([trainingData.S2, trainingData.S3, trainingData.S4, trainingData.S5, \n",
    "                         trainingData.S6, trainingData.S7, trainingData.S8, trainingData.S9, trainingData.S10])\n",
    "correlMat"
   ]
  },
  {
   "cell_type": "markdown",
   "metadata": {},
   "source": [
    "Splitting data for modeling"
   ]
  },
  {
   "cell_type": "code",
   "execution_count": 8,
   "metadata": {
    "collapsed": true
   },
   "outputs": [],
   "source": [
    "x_train = trainingData.ix[:,1:10]\n",
    "y_train = trainingData.ix[:,0]\n",
    "x_test = testData"
   ]
  },
  {
   "cell_type": "markdown",
   "metadata": {},
   "source": [
    "Building Multivariate Regression Model"
   ]
  },
  {
   "cell_type": "markdown",
   "metadata": {},
   "source": [
    "Ridge Regression"
   ]
  },
  {
   "cell_type": "code",
   "execution_count": 10,
   "metadata": {
    "collapsed": false
   },
   "outputs": [],
   "source": [
    "#Fit the model\n",
    "\n",
    "ridgereg = linear_model.Ridge(alpha=0.1,normalize=True)\n",
    "ridgereg.fit(x_train, y_train)\n",
    "y_pred = ridgereg.predict(x_test)\n",
    "\n",
    "# Writing results to CSV\n",
    "ridgePredictedDF = pd.DataFrame(y_pred)\n",
    "\n",
    "ridgePredictedDF.to_csv('stocksOutput_RR.csv')"
   ]
  },
  {
   "cell_type": "markdown",
   "metadata": {},
   "source": [
    "Ordinary Least Squares (just for fun)"
   ]
  },
  {
   "cell_type": "code",
   "execution_count": 11,
   "metadata": {
    "collapsed": false
   },
   "outputs": [
    {
     "name": "stdout",
     "output_type": "stream",
     "text": [
      "Coefficient: \n",
      " [-0.26825825  0.08751967 -0.0434048   0.05465993  0.26645864  0.12473731\n",
      " -0.20930514 -0.01694478  0.02030703]\n",
      "Intercept: \n",
      " -0.0686183630572\n"
     ]
    }
   ],
   "source": [
    "linear = linear_model.LinearRegression()\n",
    "\n",
    "# Train the model using the training sets and check score\n",
    "linear.fit(x_train, y_train)\n",
    "linear.score(x_train, y_train)\n",
    "\n",
    "#Equation coefficient and Intercept\n",
    "print('Coefficient: \\n', linear.coef_)\n",
    "print('Intercept: \\n', linear.intercept_)\n",
    "\n",
    "#Predict Output\n",
    "predicted = linear.predict(x_test)\n",
    "\n",
    "# Writing results to CSV\n",
    "predictedDF = pd.DataFrame(predicted)\n",
    "\n",
    "predictedDF.to_csv('stocksOutput_OLS.csv')"
   ]
  },
  {
   "cell_type": "code",
   "execution_count": 12,
   "metadata": {
    "collapsed": false
   },
   "outputs": [
    {
     "name": "stdout",
     "output_type": "stream",
     "text": [
      "Cross-validation scores for Ridge Regression:\n",
      "\n",
      "folds: 2 0.842619300809\n",
      "folds: 3 0.867327491968\n",
      "folds: 4 0.849699704329\n",
      "folds: 5 0.854742492832\n",
      "folds: 6 0.836738807813\n",
      "folds: 7 0.70838769558\n",
      "folds: 8 0.745760073731\n",
      "folds: 9 0.738291630571\n",
      "folds: 10 0.539122501128\n",
      "folds: 11 0.565607030236\n",
      "folds: 12 0.584280087206\n",
      "folds: 13 0.592270860833\n",
      "folds: 14 0.435006015387\n",
      "folds: 15 0.463290582032\n",
      "folds: 16 0.491676953988\n",
      "folds: 17 0.558192033526\n",
      "folds: 18 0.576937528873\n",
      "folds: 19 0.263938326709\n",
      "folds: 20 0.137348814204\n",
      "folds: 21 0.176861041343\n",
      "folds: 22 0.128989604421\n",
      "folds: 23 0.164775505981\n",
      "folds: 24 -1.21644770121\n",
      "folds: 25 -1.87761789925\n",
      "folds: 26 -1.80838273689\n",
      "folds: 27 -1.77747864775\n",
      "folds: 28 -1.7483572727\n",
      "folds: 29 -1.71804603996\n",
      "folds: 30 -1.50528005248\n",
      "folds: 31 -1.4763030089\n",
      "folds: 32 -1.38861290193\n",
      "folds: 33 -1.368231138\n",
      "folds: 34 -1.2659543121\n",
      "folds: 35 -1.25169509785\n",
      "folds: 36 -1.22842602113\n",
      "folds: 37 -1.21827902152\n",
      "folds: 38 -1.20729577022\n",
      "folds: 39 -1.16436773117\n",
      "folds: 40 -1.15923272885\n",
      "folds: 41 -1.13622011065\n",
      "folds: 42 -1.12939760711\n",
      "folds: 43 -1.12569808075\n",
      "folds: 44 -1.12271669137\n",
      "folds: 45 -1.1185772896\n",
      "folds: 46 -1.11504309201\n",
      "folds: 47 -0.387966154118\n",
      "folds: 48 -0.392590426579\n",
      "\n",
      "\n",
      "Cross-validation scores for Linear Regression:\n",
      "\n",
      "folds: 2 0.804525329454\n",
      "folds: 3 0.846860574521\n",
      "folds: 4 0.829494179711\n",
      "folds: 5 0.844037416407\n",
      "folds: 6 0.813211483779\n",
      "folds: 7 0.665285677542\n",
      "folds: 8 0.706966973464\n",
      "folds: 9 0.682262968882\n",
      "folds: 10 0.419684810595\n",
      "folds: 11 0.475132423961\n",
      "folds: 12 0.487730274077\n",
      "folds: 13 0.499328598585\n",
      "folds: 14 0.335480748959\n",
      "folds: 15 0.371021612447\n",
      "folds: 16 0.402883056603\n",
      "folds: 17 0.512999615381\n",
      "folds: 18 0.534630993319\n",
      "folds: 19 0.262245258534\n",
      "folds: 20 -0.0297296927056\n",
      "folds: 21 0.0192940923389\n",
      "folds: 22 -0.0618041419815\n",
      "folds: 23 -0.0181395022219\n",
      "folds: 24 -2.26705987197\n",
      "folds: 25 -2.99611311072\n",
      "folds: 26 -2.88110912889\n",
      "folds: 27 -2.81003036527\n",
      "folds: 28 -2.74486613903\n",
      "folds: 29 -2.67920493286\n",
      "folds: 30 -2.46926299502\n",
      "folds: 31 -2.41335937587\n",
      "folds: 32 -2.29137219105\n",
      "folds: 33 -2.24227815355\n",
      "folds: 34 -2.0129617108\n",
      "folds: 35 -1.98185873123\n",
      "folds: 36 -1.9419566177\n",
      "folds: 37 -1.91364897554\n",
      "folds: 38 -1.88034991516\n",
      "folds: 39 -1.807576356\n",
      "folds: 40 -1.78150692888\n",
      "folds: 41 -1.73073944308\n",
      "folds: 42 -1.71018998692\n",
      "folds: 43 -1.6929310501\n",
      "folds: 44 -1.67704249699\n",
      "folds: 45 -1.66015827815\n",
      "folds: 46 -1.64468429559\n",
      "folds: 47 -0.458452984905\n",
      "folds: 48 -0.45674028178\n"
     ]
    }
   ],
   "source": [
    "# Validation scores\n",
    "\n",
    "print(\"Cross-validation scores for Ridge Regression:\\n\")\n",
    "for i in range (2,49):\n",
    "    scores = cross_val_score(ridgereg, x_train, y_train, cv=i, scoring='r2')\n",
    "    print(\"folds:\",i,scores.mean())\n",
    "\n",
    "    \n",
    "print(\"\\n\\nCross-validation scores for Linear Regression:\\n\")  \n",
    "for i in range (2,49):\n",
    "    scores = cross_val_score(linear, x_train, y_train, cv=i, scoring='r2')\n",
    "    print(\"folds:\",i,scores.mean())\n",
    "    "
   ]
  }
 ],
 "metadata": {
  "kernelspec": {
   "display_name": "Python 3",
   "language": "python",
   "name": "python3"
  },
  "language_info": {
   "codemirror_mode": {
    "name": "ipython",
    "version": 3
   },
   "file_extension": ".py",
   "mimetype": "text/x-python",
   "name": "python",
   "nbconvert_exporter": "python",
   "pygments_lexer": "ipython3",
   "version": "3.5.1"
  }
 },
 "nbformat": 4,
 "nbformat_minor": 0
}
